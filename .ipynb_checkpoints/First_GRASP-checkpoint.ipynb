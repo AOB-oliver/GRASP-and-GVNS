{
 "cells": [
  {
   "cell_type": "code",
   "execution_count": 1,
   "id": "13a2a24a-f277-4cc8-874a-8ce11969b5ab",
   "metadata": {},
   "outputs": [],
   "source": [
    "import numpy as np\n",
    "import pandas as pd\n",
    "import matplotlib.pyplot as plt\n",
    "import time\n",
    "import engine"
   ]
  },
  {
   "cell_type": "markdown",
   "id": "fd127008-ce2a-4321-b1d1-a058540ee0d5",
   "metadata": {},
   "source": [
    "### Funciona GVNS : YES"
   ]
  },
  {
   "cell_type": "code",
   "execution_count": 2,
   "id": "8e451416-af0f-40a3-a4c6-1cc71bf44321",
   "metadata": {},
   "outputs": [],
   "source": [
    "grasp = engine.GRASP()\n",
    "\n",
    "AMPARO = engine.Instance(\"/home/adrian/UNIVERSIDAD/4to_Curso/A.MIO/PROJECT/pythoncode/MDP_instances/Amparo.xlsx\")\n",
    "BORJA = engine.Instance(\"/home/adrian/UNIVERSIDAD/4to_Curso/A.MIO/PROJECT/pythoncode/MDP_instances/Borja.xlsx\")\n",
    "DANIEL = engine.Instance(\"/home/adrian/UNIVERSIDAD/4to_Curso/A.MIO/PROJECT/pythoncode/MDP_instances/Daniel.xlsx\")\n",
    "EMILIO = engine.Instance(\"/home/adrian/UNIVERSIDAD/4to_Curso/A.MIO/PROJECT/pythoncode/MDP_instances/Emilio.xlsx\")\n",
    "JOSE = engine.Instance(\"/home/adrian/UNIVERSIDAD/4to_Curso/A.MIO/PROJECT/pythoncode/MDP_instances/Jose.xlsx\")\n",
    "MARIAJESUS = engine.Instance(\"/home/adrian/UNIVERSIDAD/4to_Curso/A.MIO/PROJECT/pythoncode/MDP_instances/MariaJesus.xlsx\")\n",
    "RAQUEL = engine.Instance(\"/home/adrian/UNIVERSIDAD/4to_Curso/A.MIO/PROJECT/pythoncode/MDP_instances/Raquel.xlsx\")\n",
    "VIRGINIA = engine.Instance(\"/home/adrian/UNIVERSIDAD/4to_Curso/A.MIO/PROJECT/pythoncode/MDP_instances/Virginia.xlsx\")"
   ]
  },
  {
   "cell_type": "code",
   "execution_count": 3,
   "id": "d601b9cb-2573-49bd-9ba1-e07b4abf81f9",
   "metadata": {},
   "outputs": [],
   "source": [
    "alphas = np.array([0, 0.1, 0.2, 0.3, 0.4, 0.5, 0.6, 0.7, 0.8, 0.9, 1])"
   ]
  },
  {
   "cell_type": "code",
   "execution_count": 4,
   "id": "fe7a451d-5364-4206-b32a-cfd65ce68a1c",
   "metadata": {},
   "outputs": [],
   "source": [
    "instancias = [AMPARO, BORJA, DANIEL, EMILIO, JOSE, MARIAJESUS, RAQUEL, VIRGINIA]\n",
    "nombres = [\"AMPARO\", \"BORJA\", \"DANIEL\", \"EMILIO\", \"JOSE\", \"MARIAJESUS\", \"RAQUEL\", \"VIRGINIA\"]"
   ]
  },
  {
   "cell_type": "code",
   "execution_count": null,
   "id": "964a5a5b-5ad5-4f5a-aa5a-ddc1282d8b96",
   "metadata": {},
   "outputs": [],
   "source": [
    "i = 0\n",
    "\n",
    "primera = True\n",
    "for instancia in instancias:\n",
    "    for alpha in alphas:\n",
    "        \n",
    "        paquete = np.array(grasp.perform_during(instancia.matrix, alpha, 4*60))\n",
    "        columna1 = nombres[i] + f\"{alpha}\"\n",
    "        columna2 = \"Time\"+ nombres[i] + f\"{alpha}\"\n",
    "    \n",
    "        if primera:\n",
    "            DF = pd.DataFrame(paquete.transpose(), columns=[columna1, columna2])\n",
    "            primera = False\n",
    "        else:\n",
    "            DF = pd.concat([DF, pd.DataFrame(paquete.transpose(), columns=[columna1, columna2])], axis=1)\n",
    "    i+=1\n",
    "\n",
    "    "
   ]
  },
  {
   "cell_type": "markdown",
   "id": "fafc14bd-5608-4e6d-a7f7-5b3eac44756f",
   "metadata": {},
   "source": [
    "for i in range(len(data_AMP_BOR[0])):\n",
    "    plt.plot(data_AMP_BOR[0][i][1], data_AMP_BOR[0][i][0], label =f\"{i} alpha\")\n",
    "    \n",
    "plt.title(\"AMPARO\")\n",
    "plt.legend()\n",
    "plt.grid()\n",
    "plt.show()"
   ]
  },
  {
   "cell_type": "markdown",
   "id": "ae6af9a9-93b9-467e-8efe-6ab2cd58fe9f",
   "metadata": {},
   "source": [
    "for i in range(len(data_AMP_BOR[0])):\n",
    "    plt.plot(data_AMP_BOR[1][i][1], data_AMP_BOR[1][i][0], label =f\"{i} alpha\")\n",
    "    \n",
    "plt.title(\"BORJA\")\n",
    "plt.legend()\n",
    "plt.grid()\n",
    "plt.show()"
   ]
  },
  {
   "cell_type": "code",
   "execution_count": 20,
   "id": "584542d6-c642-406a-a427-649d93d471e6",
   "metadata": {},
   "outputs": [
    {
     "data": {
      "text/plain": [
       "5.866666666666666"
      ]
     },
     "execution_count": 20,
     "metadata": {},
     "output_type": "execute_result"
    }
   ],
   "source": [
    "8 * 44 /60"
   ]
  },
  {
   "cell_type": "code",
   "execution_count": 24,
   "id": "5d8ad039-59d7-4c45-948a-2f619c38db68",
   "metadata": {},
   "outputs": [
    {
     "data": {
      "text/plain": [
       "'2'"
      ]
     },
     "execution_count": 24,
     "metadata": {},
     "output_type": "execute_result"
    }
   ],
   "source": [
    "x = 2\n",
    "alpha = f\"{x}\"\n",
    "alpha"
   ]
  },
  {
   "cell_type": "code",
   "execution_count": 8,
   "id": "a1cfbe81-3431-4e50-876f-8c3f611a65f7",
   "metadata": {},
   "outputs": [],
   "source": [
    "#bestia = engine.GVNS()"
   ]
  },
  {
   "cell_type": "code",
   "execution_count": 9,
   "id": "2538348c-bd97-47f5-999e-fb1f409c0839",
   "metadata": {},
   "outputs": [],
   "source": [
    "#maximos, tiempos = bestia.perform_GVNS_during(AMPARO.matrix, 60, 4)"
   ]
  },
  {
   "cell_type": "code",
   "execution_count": 10,
   "id": "cc71ec67-d99d-406c-8236-3d3dd5161e05",
   "metadata": {},
   "outputs": [],
   "source": [
    "#plt.plot(tiempos, maximos)\n",
    "#plt.show()\n",
    "#len(maximos)\n",
    "#maximos"
   ]
  },
  {
   "cell_type": "markdown",
   "id": "4a235480-349d-438d-a7d3-6a2b3e33dfa6",
   "metadata": {},
   "source": [
    "#### Performance -> DataFrame -> csv -> seaborn"
   ]
  },
  {
   "cell_type": "code",
   "execution_count": 23,
   "id": "37297e0e-7439-4ba4-b10e-3b2f9f198e9a",
   "metadata": {},
   "outputs": [
    {
     "data": {
      "text/html": [
       "<div>\n",
       "<style scoped>\n",
       "    .dataframe tbody tr th:only-of-type {\n",
       "        vertical-align: middle;\n",
       "    }\n",
       "\n",
       "    .dataframe tbody tr th {\n",
       "        vertical-align: top;\n",
       "    }\n",
       "\n",
       "    .dataframe thead th {\n",
       "        text-align: right;\n",
       "    }\n",
       "</style>\n",
       "<table border=\"1\" class=\"dataframe\">\n",
       "  <thead>\n",
       "    <tr style=\"text-align: right;\">\n",
       "      <th></th>\n",
       "      <th>AMPARO 0.1</th>\n",
       "      <th>TimeAMPARO 0.1</th>\n",
       "      <th>hola</th>\n",
       "      <th>adios</th>\n",
       "    </tr>\n",
       "  </thead>\n",
       "  <tbody>\n",
       "    <tr>\n",
       "      <th>0</th>\n",
       "      <td>1</td>\n",
       "      <td>12</td>\n",
       "      <td>0.0</td>\n",
       "      <td>4.0</td>\n",
       "    </tr>\n",
       "    <tr>\n",
       "      <th>1</th>\n",
       "      <td>2</td>\n",
       "      <td>23</td>\n",
       "      <td>2.0</td>\n",
       "      <td>5.0</td>\n",
       "    </tr>\n",
       "    <tr>\n",
       "      <th>2</th>\n",
       "      <td>3</td>\n",
       "      <td>1</td>\n",
       "      <td>3.0</td>\n",
       "      <td>6.0</td>\n",
       "    </tr>\n",
       "    <tr>\n",
       "      <th>3</th>\n",
       "      <td>4</td>\n",
       "      <td>23</td>\n",
       "      <td>NaN</td>\n",
       "      <td>NaN</td>\n",
       "    </tr>\n",
       "    <tr>\n",
       "      <th>4</th>\n",
       "      <td>5</td>\n",
       "      <td>4</td>\n",
       "      <td>NaN</td>\n",
       "      <td>NaN</td>\n",
       "    </tr>\n",
       "  </tbody>\n",
       "</table>\n",
       "</div>"
      ],
      "text/plain": [
       "   AMPARO 0.1  TimeAMPARO 0.1  hola  adios\n",
       "0           1              12   0.0    4.0\n",
       "1           2              23   2.0    5.0\n",
       "2           3               1   3.0    6.0\n",
       "3           4              23   NaN    NaN\n",
       "4           5               4   NaN    NaN"
      ]
     },
     "execution_count": 23,
     "metadata": {},
     "output_type": "execute_result"
    }
   ],
   "source": [
    "x = [1,2,3,4,5]\n",
    "y = [12,23,1,23,4]\n",
    "xy = np.array([x,y])\n",
    "calibrate_alpha_df = pd.DataFrame(xy.transpose(), columns = [\"AMPARO 0.1\", \"TimeAMPARO 0.1\"])\n",
    "\n",
    "x1 = [0,2,3]\n",
    "y1 = [4,5,6]\n",
    "x1y1 = np.array([x1,y1])\n",
    "df = pd.DataFrame(x1y1.transpose(), columns = [\"hola\", \"adios\"])\n",
    "\n",
    "DF = pd.concat([calibrate_alpha_df, df], axis=1)\n",
    "prueba = pd.concat([DF], axis=1)\n",
    "prueba"
   ]
  },
  {
   "cell_type": "code",
   "execution_count": 19,
   "id": "fbbfb020-9da3-43eb-8733-d51ffb244628",
   "metadata": {},
   "outputs": [
    {
     "data": {
      "text/plain": [
       "([1], [1, 2])"
      ]
     },
     "execution_count": 19,
     "metadata": {},
     "output_type": "execute_result"
    }
   ],
   "source": [
    "def prueba(a,b):\n",
    "    return a, b\n",
    "\n",
    "prueba([1],[1,2])"
   ]
  },
  {
   "cell_type": "code",
   "execution_count": 29,
   "id": "e2b3537b-4d21-4d82-a2ae-107ef5fa41f7",
   "metadata": {},
   "outputs": [
    {
     "data": {
      "text/plain": [
       "2097"
      ]
     },
     "execution_count": 29,
     "metadata": {},
     "output_type": "execute_result"
    }
   ],
   "source": [
    "t=time.time()\n",
    "tt = int(t)\n",
    "tt % 3600"
   ]
  },
  {
   "cell_type": "code",
   "execution_count": 31,
   "id": "66a19e52-7394-44b4-9a81-84a739f9ef56",
   "metadata": {},
   "outputs": [
    {
     "data": {
      "text/plain": [
       "8"
      ]
     },
     "execution_count": 31,
     "metadata": {},
     "output_type": "execute_result"
    }
   ],
   "source": [
    "int(8.6)"
   ]
  },
  {
   "cell_type": "code",
   "execution_count": null,
   "id": "fea42936-f5ac-4345-bf9e-d3e87f97f164",
   "metadata": {},
   "outputs": [],
   "source": []
  }
 ],
 "metadata": {
  "kernelspec": {
   "display_name": "Python 3 (ipykernel)",
   "language": "python",
   "name": "python3"
  },
  "language_info": {
   "codemirror_mode": {
    "name": "ipython",
    "version": 3
   },
   "file_extension": ".py",
   "mimetype": "text/x-python",
   "name": "python",
   "nbconvert_exporter": "python",
   "pygments_lexer": "ipython3",
   "version": "3.8.8"
  }
 },
 "nbformat": 4,
 "nbformat_minor": 5
}
