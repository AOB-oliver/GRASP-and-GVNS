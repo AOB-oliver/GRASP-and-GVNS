{
 "cells": [
  {
   "cell_type": "markdown",
   "id": "24d801d3-2583-470f-8b7e-d4a706d2b684",
   "metadata": {},
   "source": [
    "# Análisis $K_{\\max}$ 3, 10 y 20 "
   ]
  },
  {
   "cell_type": "code",
   "execution_count": 1,
   "id": "5971e541-e63b-499e-8600-33ef5ec1ad8c",
   "metadata": {},
   "outputs": [],
   "source": [
    "import pandas as pd\n",
    "\n",
    "import numpy as np\n",
    "\n",
    "from plotnine import *"
   ]
  },
  {
   "cell_type": "code",
   "execution_count": 2,
   "id": "f58bb15b-5b17-4b28-b43f-3ca098a0e237",
   "metadata": {},
   "outputs": [],
   "source": [
    "df = pd.read_csv(\"behindKs31020.csv\")\n",
    "df[\"K\"] = df[\"K\"].astype(str)"
   ]
  },
  {
   "cell_type": "code",
   "execution_count": 3,
   "id": "c90835db-aa0f-4321-9e7c-9d25e3fb31ea",
   "metadata": {},
   "outputs": [],
   "source": [
    "names = [\n",
    "    \"AMPARO\",\n",
    "    \"BORJA\",\n",
    "    \"DANIEL\",\n",
    "    \"EMILIO\",\n",
    "    \"JOSE\",\n",
    "    \"MARIAJESUS\",\n",
    "    \"RAQUEL\",\n",
    "    \"VIRGINIA\"\n",
    "]"
   ]
  },
  {
   "cell_type": "code",
   "execution_count": 4,
   "id": "45580828-5b9d-4428-afff-f1cbbe0e962f",
   "metadata": {},
   "outputs": [
    {
     "name": "stderr",
     "output_type": "stream",
     "text": [
      "/home/adrian/anaconda3/lib/python3.8/site-packages/plotnine/ggplot.py:719: PlotnineWarning: Saving 6.4 x 4.8 in image.\n",
      "/home/adrian/anaconda3/lib/python3.8/site-packages/plotnine/ggplot.py:722: PlotnineWarning: Filename: 31020_AMPARO.png\n",
      "/home/adrian/anaconda3/lib/python3.8/site-packages/pandas/core/arraylike.py:364: RuntimeWarning: divide by zero encountered in log10\n",
      "/home/adrian/anaconda3/lib/python3.8/site-packages/plotnine/ggplot.py:719: PlotnineWarning: Saving 6.4 x 4.8 in image.\n",
      "/home/adrian/anaconda3/lib/python3.8/site-packages/plotnine/ggplot.py:722: PlotnineWarning: Filename: 31020_AMPARO_zoom.png\n",
      "/home/adrian/anaconda3/lib/python3.8/site-packages/pandas/core/arraylike.py:364: RuntimeWarning: divide by zero encountered in log10\n",
      "/home/adrian/anaconda3/lib/python3.8/site-packages/plotnine/ggplot.py:719: PlotnineWarning: Saving 6.4 x 4.8 in image.\n",
      "/home/adrian/anaconda3/lib/python3.8/site-packages/plotnine/ggplot.py:722: PlotnineWarning: Filename: 31020_BORJA.png\n",
      "/home/adrian/anaconda3/lib/python3.8/site-packages/pandas/core/arraylike.py:364: RuntimeWarning: divide by zero encountered in log10\n",
      "/home/adrian/anaconda3/lib/python3.8/site-packages/plotnine/ggplot.py:719: PlotnineWarning: Saving 6.4 x 4.8 in image.\n",
      "/home/adrian/anaconda3/lib/python3.8/site-packages/plotnine/ggplot.py:722: PlotnineWarning: Filename: 31020_BORJA_zoom.png\n",
      "/home/adrian/anaconda3/lib/python3.8/site-packages/pandas/core/arraylike.py:364: RuntimeWarning: divide by zero encountered in log10\n",
      "/home/adrian/anaconda3/lib/python3.8/site-packages/plotnine/ggplot.py:719: PlotnineWarning: Saving 6.4 x 4.8 in image.\n",
      "/home/adrian/anaconda3/lib/python3.8/site-packages/plotnine/ggplot.py:722: PlotnineWarning: Filename: 31020_DANIEL.png\n",
      "/home/adrian/anaconda3/lib/python3.8/site-packages/pandas/core/arraylike.py:364: RuntimeWarning: divide by zero encountered in log10\n",
      "/home/adrian/anaconda3/lib/python3.8/site-packages/plotnine/ggplot.py:719: PlotnineWarning: Saving 6.4 x 4.8 in image.\n",
      "/home/adrian/anaconda3/lib/python3.8/site-packages/plotnine/ggplot.py:722: PlotnineWarning: Filename: 31020_DANIEL_zoom.png\n",
      "/home/adrian/anaconda3/lib/python3.8/site-packages/pandas/core/arraylike.py:364: RuntimeWarning: divide by zero encountered in log10\n",
      "/home/adrian/anaconda3/lib/python3.8/site-packages/plotnine/ggplot.py:719: PlotnineWarning: Saving 6.4 x 4.8 in image.\n",
      "/home/adrian/anaconda3/lib/python3.8/site-packages/plotnine/ggplot.py:722: PlotnineWarning: Filename: 31020_EMILIO.png\n",
      "/home/adrian/anaconda3/lib/python3.8/site-packages/pandas/core/arraylike.py:364: RuntimeWarning: divide by zero encountered in log10\n",
      "/home/adrian/anaconda3/lib/python3.8/site-packages/plotnine/ggplot.py:719: PlotnineWarning: Saving 6.4 x 4.8 in image.\n",
      "/home/adrian/anaconda3/lib/python3.8/site-packages/plotnine/ggplot.py:722: PlotnineWarning: Filename: 31020_EMILIO_zoom.png\n",
      "/home/adrian/anaconda3/lib/python3.8/site-packages/pandas/core/arraylike.py:364: RuntimeWarning: divide by zero encountered in log10\n",
      "/home/adrian/anaconda3/lib/python3.8/site-packages/plotnine/ggplot.py:719: PlotnineWarning: Saving 6.4 x 4.8 in image.\n",
      "/home/adrian/anaconda3/lib/python3.8/site-packages/plotnine/ggplot.py:722: PlotnineWarning: Filename: 31020_JOSE.png\n",
      "/home/adrian/anaconda3/lib/python3.8/site-packages/pandas/core/arraylike.py:364: RuntimeWarning: divide by zero encountered in log10\n",
      "/home/adrian/anaconda3/lib/python3.8/site-packages/plotnine/ggplot.py:719: PlotnineWarning: Saving 6.4 x 4.8 in image.\n",
      "/home/adrian/anaconda3/lib/python3.8/site-packages/plotnine/ggplot.py:722: PlotnineWarning: Filename: 31020_JOSE_zoom.png\n",
      "/home/adrian/anaconda3/lib/python3.8/site-packages/pandas/core/arraylike.py:364: RuntimeWarning: divide by zero encountered in log10\n",
      "/home/adrian/anaconda3/lib/python3.8/site-packages/plotnine/ggplot.py:719: PlotnineWarning: Saving 6.4 x 4.8 in image.\n",
      "/home/adrian/anaconda3/lib/python3.8/site-packages/plotnine/ggplot.py:722: PlotnineWarning: Filename: 31020_MARIAJESUS.png\n",
      "/home/adrian/anaconda3/lib/python3.8/site-packages/pandas/core/arraylike.py:364: RuntimeWarning: divide by zero encountered in log10\n",
      "/home/adrian/anaconda3/lib/python3.8/site-packages/plotnine/ggplot.py:719: PlotnineWarning: Saving 6.4 x 4.8 in image.\n",
      "/home/adrian/anaconda3/lib/python3.8/site-packages/plotnine/ggplot.py:722: PlotnineWarning: Filename: 31020_MARIAJESUS_zoom.png\n",
      "/home/adrian/anaconda3/lib/python3.8/site-packages/pandas/core/arraylike.py:364: RuntimeWarning: divide by zero encountered in log10\n",
      "/home/adrian/anaconda3/lib/python3.8/site-packages/plotnine/ggplot.py:719: PlotnineWarning: Saving 6.4 x 4.8 in image.\n",
      "/home/adrian/anaconda3/lib/python3.8/site-packages/plotnine/ggplot.py:722: PlotnineWarning: Filename: 31020_RAQUEL.png\n",
      "/home/adrian/anaconda3/lib/python3.8/site-packages/pandas/core/arraylike.py:364: RuntimeWarning: divide by zero encountered in log10\n",
      "/home/adrian/anaconda3/lib/python3.8/site-packages/plotnine/ggplot.py:719: PlotnineWarning: Saving 6.4 x 4.8 in image.\n",
      "/home/adrian/anaconda3/lib/python3.8/site-packages/plotnine/ggplot.py:722: PlotnineWarning: Filename: 31020_RAQUEL_zoom.png\n",
      "/home/adrian/anaconda3/lib/python3.8/site-packages/pandas/core/arraylike.py:364: RuntimeWarning: divide by zero encountered in log10\n",
      "/home/adrian/anaconda3/lib/python3.8/site-packages/plotnine/ggplot.py:719: PlotnineWarning: Saving 6.4 x 4.8 in image.\n",
      "/home/adrian/anaconda3/lib/python3.8/site-packages/plotnine/ggplot.py:722: PlotnineWarning: Filename: 31020_VIRGINIA.png\n",
      "/home/adrian/anaconda3/lib/python3.8/site-packages/pandas/core/arraylike.py:364: RuntimeWarning: divide by zero encountered in log10\n",
      "/home/adrian/anaconda3/lib/python3.8/site-packages/plotnine/ggplot.py:719: PlotnineWarning: Saving 6.4 x 4.8 in image.\n",
      "/home/adrian/anaconda3/lib/python3.8/site-packages/plotnine/ggplot.py:722: PlotnineWarning: Filename: 31020_VIRGINIA_zoom.png\n",
      "/home/adrian/anaconda3/lib/python3.8/site-packages/pandas/core/arraylike.py:364: RuntimeWarning: divide by zero encountered in log10\n"
     ]
    }
   ],
   "source": [
    "for name in names:\n",
    "    plot = (\n",
    "\n",
    "        ggplot(df[df[\"Instance\"]== name][[\"Value\", \"Time\", \"K\"]], aes(\"Time\",\"Value\", color=\"K\")) +\n",
    "\n",
    "        geom_point() +\n",
    "\n",
    "        geom_line(aes(group=\"K\")) + \n",
    "\n",
    "        scale_x_log10() + \n",
    "\n",
    "        coord_cartesian(ylim=(15000,22000)) + \n",
    "\n",
    "        xlab(\"Time (s)\") + \n",
    "\n",
    "        ylab(\"Obj. Fun. Value\") +\n",
    "\n",
    "        ggtitle(r\"$k_{\\max}$-performance \"+ f\"{name}\") +\n",
    "\n",
    "        theme_538()\n",
    "\n",
    "    )\n",
    "    plot.save(f\"31020_{name}.png\")\n",
    "\n",
    "    plot = (\n",
    "\n",
    "        ggplot(df[df[\"Instance\"]== name][[\"Value\", \"Time\", \"K\"]], aes(\"Time\",\"Value\", color=\"K\")) +\n",
    "\n",
    "        geom_point() +\n",
    "\n",
    "        geom_line(aes(group=\"K\")) + \n",
    "\n",
    "        scale_x_log10() + \n",
    "\n",
    "        coord_cartesian(ylim=(20000,22100)) + \n",
    "\n",
    "        xlab(\"Time (s)\") + \n",
    "\n",
    "        ylab(\"Obj. Fun. Value\") +\n",
    "\n",
    "        ggtitle(r\"$k_{\\max}$-performance \"+ f\"{name}\") +\n",
    "\n",
    "        theme_538()\n",
    "\n",
    "    )\n",
    "    plot.save(f\"31020_{name}_zoom.png\")"
   ]
  },
  {
   "cell_type": "code",
   "execution_count": 57,
   "id": "edf028ce-596f-4392-bde9-fc7dac25f28a",
   "metadata": {},
   "outputs": [
    {
     "data": {
      "text/plain": [
       "'\\\\begin{tabular}{lllllllllll}\\n\\\\toprule\\n      0  &        1  &        2  &         3  &         4  &       5  &        6  &         7  &         8  &       9  &         10 \\\\\\\\\\n\\\\midrule\\n       3 &         3 &         3 &          3 &          3 &       10 &        10 &         10 &         10 &       20 &         20 \\\\\\\\\\n 15068.0 &   21085.0 &   21104.0 &    21115.0 &    21124.0 &  15060.0 &   21192.0 &    21306.0 &    21355.0 &  15199.0 &    21470.0 \\\\\\\\\\n     0.0 &  0.316378 &  0.638768 &  15.823523 &  45.866064 &      0.0 &  4.812463 &  21.503728 &  51.599342 &      0.0 &  54.171055 \\\\\\\\\\n\\\\bottomrule\\n\\\\end{tabular}\\n'"
      ]
     },
     "execution_count": 57,
     "metadata": {},
     "output_type": "execute_result"
    }
   ],
   "source": []
  },
  {
   "cell_type": "code",
   "execution_count": 56,
   "id": "87824f20-6ee4-4d6a-bca8-baafeddacd21",
   "metadata": {},
   "outputs": [
    {
     "data": {
      "text/html": [
       "<style type=\"text/css\">\n",
       "</style>\n",
       "<table id=\"T_3ddfb_\">\n",
       "  <thead>\n",
       "    <tr>\n",
       "      <th class=\"blank level0\" >&nbsp;</th>\n",
       "      <th class=\"col_heading level0 col0\" >11</th>\n",
       "      <th class=\"col_heading level0 col1\" >12</th>\n",
       "      <th class=\"col_heading level0 col2\" >13</th>\n",
       "      <th class=\"col_heading level0 col3\" >14</th>\n",
       "      <th class=\"col_heading level0 col4\" >15</th>\n",
       "      <th class=\"col_heading level0 col5\" >16</th>\n",
       "      <th class=\"col_heading level0 col6\" >17</th>\n",
       "      <th class=\"col_heading level0 col7\" >18</th>\n",
       "      <th class=\"col_heading level0 col8\" >19</th>\n",
       "    </tr>\n",
       "  </thead>\n",
       "  <tbody>\n",
       "    <tr>\n",
       "      <th id=\"T_3ddfb_level0_row0\" class=\"row_heading level0 row0\" >K</th>\n",
       "      <td id=\"T_3ddfb_row0_col0\" class=\"data row0 col0\" >3</td>\n",
       "      <td id=\"T_3ddfb_row0_col1\" class=\"data row0 col1\" >3</td>\n",
       "      <td id=\"T_3ddfb_row0_col2\" class=\"data row0 col2\" >10</td>\n",
       "      <td id=\"T_3ddfb_row0_col3\" class=\"data row0 col3\" >10</td>\n",
       "      <td id=\"T_3ddfb_row0_col4\" class=\"data row0 col4\" >10</td>\n",
       "      <td id=\"T_3ddfb_row0_col5\" class=\"data row0 col5\" >20</td>\n",
       "      <td id=\"T_3ddfb_row0_col6\" class=\"data row0 col6\" >20</td>\n",
       "      <td id=\"T_3ddfb_row0_col7\" class=\"data row0 col7\" >20</td>\n",
       "      <td id=\"T_3ddfb_row0_col8\" class=\"data row0 col8\" >20</td>\n",
       "    </tr>\n",
       "    <tr>\n",
       "      <th id=\"T_3ddfb_level0_row1\" class=\"row_heading level0 row1\" >Value</th>\n",
       "      <td id=\"T_3ddfb_row1_col0\" class=\"data row1 col0\" >15403.000000</td>\n",
       "      <td id=\"T_3ddfb_row1_col1\" class=\"data row1 col1\" >21070.000000</td>\n",
       "      <td id=\"T_3ddfb_row1_col2\" class=\"data row1 col2\" >15910.000000</td>\n",
       "      <td id=\"T_3ddfb_row1_col3\" class=\"data row1 col3\" >21152.000000</td>\n",
       "      <td id=\"T_3ddfb_row1_col4\" class=\"data row1 col4\" >21294.000000</td>\n",
       "      <td id=\"T_3ddfb_row1_col5\" class=\"data row1 col5\" >14963.000000</td>\n",
       "      <td id=\"T_3ddfb_row1_col6\" class=\"data row1 col6\" >21248.000000</td>\n",
       "      <td id=\"T_3ddfb_row1_col7\" class=\"data row1 col7\" >21481.000000</td>\n",
       "      <td id=\"T_3ddfb_row1_col8\" class=\"data row1 col8\" >21488.000000</td>\n",
       "    </tr>\n",
       "    <tr>\n",
       "      <th id=\"T_3ddfb_level0_row2\" class=\"row_heading level0 row2\" >Time</th>\n",
       "      <td id=\"T_3ddfb_row2_col0\" class=\"data row2 col0\" >0.000000</td>\n",
       "      <td id=\"T_3ddfb_row2_col1\" class=\"data row2 col1\" >0.390668</td>\n",
       "      <td id=\"T_3ddfb_row2_col2\" class=\"data row2 col2\" >0.000000</td>\n",
       "      <td id=\"T_3ddfb_row2_col3\" class=\"data row2 col3\" >2.831744</td>\n",
       "      <td id=\"T_3ddfb_row2_col4\" class=\"data row2 col4\" >63.171968</td>\n",
       "      <td id=\"T_3ddfb_row2_col5\" class=\"data row2 col5\" >0.000000</td>\n",
       "      <td id=\"T_3ddfb_row2_col6\" class=\"data row2 col6\" >32.781779</td>\n",
       "      <td id=\"T_3ddfb_row2_col7\" class=\"data row2 col7\" >62.441650</td>\n",
       "      <td id=\"T_3ddfb_row2_col8\" class=\"data row2 col8\" >207.462109</td>\n",
       "    </tr>\n",
       "  </tbody>\n",
       "</table>\n"
      ],
      "text/plain": [
       "<pandas.io.formats.style.Styler at 0x7f9fc7ef2670>"
      ]
     },
     "execution_count": 56,
     "metadata": {},
     "output_type": "execute_result"
    }
   ],
   "source": [
    "dic_max = {}\n",
    "for name in names:\n",
    "    dic_max[\"Nombre\"]=name\n",
    "    dic_max[]"
   ]
  },
  {
   "cell_type": "code",
   "execution_count": null,
   "id": "fa8645ce-3c55-4221-8c0f-568fd7118b47",
   "metadata": {},
   "outputs": [],
   "source": []
  }
 ],
 "metadata": {
  "kernelspec": {
   "display_name": "Python 3 (ipykernel)",
   "language": "python",
   "name": "python3"
  },
  "language_info": {
   "codemirror_mode": {
    "name": "ipython",
    "version": 3
   },
   "file_extension": ".py",
   "mimetype": "text/x-python",
   "name": "python",
   "nbconvert_exporter": "python",
   "pygments_lexer": "ipython3",
   "version": "3.8.8"
  }
 },
 "nbformat": 4,
 "nbformat_minor": 5
}
