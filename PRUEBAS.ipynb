{
 "cells": [
  {
   "cell_type": "code",
   "execution_count": 1,
   "id": "5e13f7a1-36e8-4891-9c4b-4fe72c8c804b",
   "metadata": {},
   "outputs": [],
   "source": [
    "import numpy as np\n",
    "import engine"
   ]
  },
  {
   "cell_type": "code",
   "execution_count": 3,
   "id": "e6c8a1f2-8a22-4d72-a012-4d79f0e3305c",
   "metadata": {},
   "outputs": [
    {
     "name": "stdout",
     "output_type": "stream",
     "text": [
      "[[ 0  1  2  3  4  5  6  7  8  9]\n",
      " [10 11 12 13 14 15 16 17 18 19]\n",
      " [20 21 22 23 24 25 26 27 28 29]\n",
      " [30 31 32 33 34 35 36 37 38 39]\n",
      " [40 41 42 43 44 45 46 47 48 49]]\n"
     ]
    },
    {
     "data": {
      "text/plain": [
       "7"
      ]
     },
     "execution_count": 3,
     "metadata": {},
     "output_type": "execute_result"
    }
   ],
   "source": [
    "n = np.arange(50).reshape(5,10)\n",
    "print(n)\n",
    "X = [0, 3, 4]\n",
    "\n",
    "n[0,X].sum()\n"
   ]
  },
  {
   "cell_type": "code",
   "execution_count": 13,
   "id": "918a75b2-c6c4-43a2-975e-cdd0eda5ddba",
   "metadata": {},
   "outputs": [
    {
     "name": "stdout",
     "output_type": "stream",
     "text": [
      "x\n",
      "x\n",
      "x\n",
      "x\n"
     ]
    }
   ],
   "source": [
    "for _ in range(4):\n",
    "    print(\"x\")"
   ]
  },
  {
   "cell_type": "code",
   "execution_count": 19,
   "id": "a8ea6724-0015-4dae-9ac1-8f746aa131a1",
   "metadata": {},
   "outputs": [
    {
     "data": {
      "text/plain": [
       "[3]"
      ]
     },
     "execution_count": 19,
     "metadata": {},
     "output_type": "execute_result"
    }
   ],
   "source": [
    "x = np.array([2,34,5,12,3,2,4,78,3])\n",
    "where = np.where(x == x.min())[0][0]\n",
    "x = list(x)\n",
    "x[(len(x)-1):]"
   ]
  },
  {
   "cell_type": "code",
   "execution_count": null,
   "id": "cdcfff0d-0d58-4d9f-82f1-50073074347d",
   "metadata": {},
   "outputs": [],
   "source": []
  }
 ],
 "metadata": {
  "kernelspec": {
   "display_name": "Python 3 (ipykernel)",
   "language": "python",
   "name": "python3"
  },
  "language_info": {
   "codemirror_mode": {
    "name": "ipython",
    "version": 3
   },
   "file_extension": ".py",
   "mimetype": "text/x-python",
   "name": "python",
   "nbconvert_exporter": "python",
   "pygments_lexer": "ipython3",
   "version": "3.8.8"
  }
 },
 "nbformat": 4,
 "nbformat_minor": 5
}
